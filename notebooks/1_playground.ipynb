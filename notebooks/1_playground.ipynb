{
 "cells": [
  {
   "cell_type": "markdown",
   "metadata": {},
   "source": [
    "# File conversions"
   ]
  },
  {
   "cell_type": "code",
   "execution_count": 22,
   "metadata": {},
   "outputs": [],
   "source": [
    "import ffmpeg"
   ]
  },
  {
   "cell_type": "code",
   "execution_count": 72,
   "metadata": {},
   "outputs": [],
   "source": [
    "def preprocess_video(input_file, output_file):\n",
    "    try:\n",
    "        (\n",
    "            ffmpeg\n",
    "            .input(input_file)\n",
    "            .output(output_file,\n",
    "                    vcodec='libx264',\n",
    "                    crf=23,\n",
    "                    vprofile='baseline',\n",
    "                    level='3.0',\n",
    "                    pix_fmt='yuv420p',\n",
    "                    acodec='aac',\n",
    "                    ac=2,\n",
    "                    audio_bitrate='128k',\n",
    "                    movflags='faststart',\n",
    "                    )\n",
    "            .overwrite_output()\n",
    "            .run()\n",
    "        )\n",
    "        print(f\"Conversion successful: {output_file}\")\n",
    "    except ffmpeg.Error as e:\n",
    "        print(f\"Error during conversion: {e.stderr.decode()}\")\n",
    "\n",
    "def preprocess_audio(input_file, output_file):\n",
    "    try:\n",
    "        (\n",
    "            ffmpeg\n",
    "            .input(input_file)\n",
    "            .output(output_file,\n",
    "                    # vn=True,  # Disable video stream\n",
    "                    acodec='pcm_s16le',\n",
    "                    ar=44100,\n",
    "                    )\n",
    "            .overwrite_output()\n",
    "            .run()\n",
    "        )\n",
    "        print(f\"Audio extraction successful: {output_file}\")\n",
    "    except ffmpeg.Error as e:\n",
    "        print(f\"Error during audio extraction: \", e)\n",
    "\n",
    "# Example usage\n",
    "# preprocess_video('../data/HY_2024_film_01.mp4', '../data_processed/output.mp4')"
   ]
  },
  {
   "cell_type": "markdown",
   "metadata": {},
   "source": [
    "# Pipelines"
   ]
  },
  {
   "cell_type": "code",
   "execution_count": 79,
   "metadata": {},
   "outputs": [],
   "source": [
    "import speech_recognition as sr"
   ]
  },
  {
   "cell_type": "code",
   "execution_count": 80,
   "metadata": {},
   "outputs": [
    {
     "data": {
      "text/plain": [
       "[PosixPath('/home/szymon/repos/hy_ai/notebooks/../data/HY_2024_film_01.mp4'),\n",
       " PosixPath('/home/szymon/repos/hy_ai/notebooks/../data/HY_2024_film_02.mp4'),\n",
       " PosixPath('/home/szymon/repos/hy_ai/notebooks/../data/HY_2024_film_03.mp4'),\n",
       " PosixPath('/home/szymon/repos/hy_ai/notebooks/../data/HY_2024_film_04.mp4'),\n",
       " PosixPath('/home/szymon/repos/hy_ai/notebooks/../data/HY_2024_film_05.mp4'),\n",
       " PosixPath('/home/szymon/repos/hy_ai/notebooks/../data/HY_2024_film_06.mp4'),\n",
       " PosixPath('/home/szymon/repos/hy_ai/notebooks/../data/HY_2024_film_07.mp4'),\n",
       " PosixPath('/home/szymon/repos/hy_ai/notebooks/../data/HY_2024_film_08.mp4'),\n",
       " PosixPath('/home/szymon/repos/hy_ai/notebooks/../data/HY_2024_film_09.mp4'),\n",
       " PosixPath('/home/szymon/repos/hy_ai/notebooks/../data/HY_2024_film_10.mp4'),\n",
       " PosixPath('/home/szymon/repos/hy_ai/notebooks/../data/HY_2024_film_11.mp4'),\n",
       " PosixPath('/home/szymon/repos/hy_ai/notebooks/../data/HY_2024_film_12.mp4'),\n",
       " PosixPath('/home/szymon/repos/hy_ai/notebooks/../data/HY_2024_film_13.mp4'),\n",
       " PosixPath('/home/szymon/repos/hy_ai/notebooks/../data/HY_2024_film_14.mp4'),\n",
       " PosixPath('/home/szymon/repos/hy_ai/notebooks/../data/HY_2024_film_15.mp4'),\n",
       " PosixPath('/home/szymon/repos/hy_ai/notebooks/../data/HY_2024_film_16.mp4'),\n",
       " PosixPath('/home/szymon/repos/hy_ai/notebooks/../data/HY_2024_film_17.mp4'),\n",
       " PosixPath('/home/szymon/repos/hy_ai/notebooks/../data/HY_2024_film_18.mp4'),\n",
       " PosixPath('/home/szymon/repos/hy_ai/notebooks/../data/HY_2024_film_19.mp4'),\n",
       " PosixPath('/home/szymon/repos/hy_ai/notebooks/../data/HY_2024_film_20.mp4'),\n",
       " PosixPath('/home/szymon/repos/hy_ai/notebooks/../data/output_audio.aac')]"
      ]
     },
     "execution_count": 80,
     "metadata": {},
     "output_type": "execute_result"
    }
   ],
   "source": [
    "# list all absolute filenames in ../data dir\n",
    "import os\n",
    "from pathlib import Path\n",
    "\n",
    "PATH =  Path('../data')\n",
    "TEST_FILENAMES = sorted([Path(PATH / p).absolute() for p in os.listdir(PATH)])\n",
    "TEST_FILENAMES"
   ]
  },
  {
   "cell_type": "code",
   "execution_count": 105,
   "metadata": {},
   "outputs": [
    {
     "name": "stdout",
     "output_type": "stream",
     "text": [
      "Audio extraction successful: ../data_processed/output.wav\n"
     ]
    },
    {
     "name": "stderr",
     "output_type": "stream",
     "text": [
      "ffmpeg version 4.4.2-0ubuntu0.22.04.1 Copyright (c) 2000-2021 the FFmpeg developers\n",
      "  built with gcc 11 (Ubuntu 11.2.0-19ubuntu1)\n",
      "  configuration: --prefix=/usr --extra-version=0ubuntu0.22.04.1 --toolchain=hardened --libdir=/usr/lib/x86_64-linux-gnu --incdir=/usr/include/x86_64-linux-gnu --arch=amd64 --enable-gpl --disable-stripping --enable-gnutls --enable-ladspa --enable-libaom --enable-libass --enable-libbluray --enable-libbs2b --enable-libcaca --enable-libcdio --enable-libcodec2 --enable-libdav1d --enable-libflite --enable-libfontconfig --enable-libfreetype --enable-libfribidi --enable-libgme --enable-libgsm --enable-libjack --enable-libmp3lame --enable-libmysofa --enable-libopenjpeg --enable-libopenmpt --enable-libopus --enable-libpulse --enable-librabbitmq --enable-librubberband --enable-libshine --enable-libsnappy --enable-libsoxr --enable-libspeex --enable-libsrt --enable-libssh --enable-libtheora --enable-libtwolame --enable-libvidstab --enable-libvorbis --enable-libvpx --enable-libwebp --enable-libx265 --enable-libxml2 --enable-libxvid --enable-libzimg --enable-libzmq --enable-libzvbi --enable-lv2 --enable-omx --enable-openal --enable-opencl --enable-opengl --enable-sdl2 --enable-pocketsphinx --enable-librsvg --enable-libmfx --enable-libdc1394 --enable-libdrm --enable-libiec61883 --enable-chromaprint --enable-frei0r --enable-libx264 --enable-shared\n",
      "  libavutil      56. 70.100 / 56. 70.100\n",
      "  libavcodec     58.134.100 / 58.134.100\n",
      "  libavformat    58. 76.100 / 58. 76.100\n",
      "  libavdevice    58. 13.100 / 58. 13.100\n",
      "  libavfilter     7.110.100 /  7.110.100\n",
      "  libswscale      5.  9.100 /  5.  9.100\n",
      "  libswresample   3.  9.100 /  3.  9.100\n",
      "  libpostproc    55.  9.100 / 55.  9.100\n",
      "Input #0, mov,mp4,m4a,3gp,3g2,mj2, from '/home/szymon/repos/hy_ai/notebooks/../data/HY_2024_film_02.mp4':\n",
      "  Metadata:\n",
      "    major_brand     : mp42\n",
      "    minor_version   : 0\n",
      "    compatible_brands: mp42mp41\n",
      "    creation_time   : 2024-09-20T10:28:43.000000Z\n",
      "  Duration: 00:00:35.07, start: 0.000000, bitrate: 20151 kb/s\n",
      "  Stream #0:0(eng): Video: h264 (High) (avc1 / 0x31637661), yuv420p(tv, bt709), 1920x1080, 19837 kb/s, 25 fps, 25 tbr, 25k tbn, 50k tbc (default)\n",
      "    Metadata:\n",
      "      creation_time   : 2024-09-20T10:28:43.000000Z\n",
      "      handler_name    : ?Mainconcept Video Media Handler\n",
      "      vendor_id       : [0][0][0][0]\n",
      "      encoder         : AVC Coding\n",
      "  Stream #0:1(eng): Audio: aac (LC) (mp4a / 0x6134706D), 48000 Hz, stereo, fltp, 317 kb/s (default)\n",
      "    Metadata:\n",
      "      creation_time   : 2024-09-20T10:28:44.000000Z\n",
      "      handler_name    : #Mainconcept MP4 Sound Media Handler\n",
      "      vendor_id       : [0][0][0][0]\n",
      "Stream mapping:\n",
      "  Stream #0:1 -> #0:0 (aac (native) -> pcm_s16le (native))\n",
      "Press [q] to stop, [?] for help\n",
      "Output #0, wav, to '../data_processed/output.wav':\n",
      "  Metadata:\n",
      "    major_brand     : mp42\n",
      "    minor_version   : 0\n",
      "    compatible_brands: mp42mp41\n",
      "    ISFT            : Lavf58.76.100\n",
      "  Stream #0:0(eng): Audio: pcm_s16le ([1][0][0][0] / 0x0001), 44100 Hz, stereo, s16, 1411 kb/s (default)\n",
      "    Metadata:\n",
      "      creation_time   : 2024-09-20T10:28:44.000000Z\n",
      "      handler_name    : #Mainconcept MP4 Sound Media Handler\n",
      "      vendor_id       : [0][0][0][0]\n",
      "      encoder         : Lavc58.134.100 pcm_s16le\n",
      "size=    6038kB time=00:00:35.05 bitrate=1411.2kbits/s speed= 791x    \n",
      "video:0kB audio:6038kB subtitle:0kB other streams:0kB global headers:0kB muxing overhead: 0.001262%\n"
     ]
    }
   ],
   "source": [
    "AUDIO_FILE = str(TEST_FILENAMES[1])\n",
    "\n",
    "# 1. Preprocess audio\n",
    "preprocess_audio(AUDIO_FILE, \n",
    "                 '../data_processed/output.wav')"
   ]
  },
  {
   "cell_type": "code",
   "execution_count": 106,
   "metadata": {},
   "outputs": [],
   "source": [
    "# 2. Feed recognizer\n",
    "r = sr.Recognizer()\n",
    "with sr.AudioFile(\"../data_processed/output.wav\") as source:\n",
    "    audio = r.record(source)  # read the entire audio file"
   ]
  },
  {
   "cell_type": "code",
   "execution_count": 107,
   "metadata": {},
   "outputs": [
    {
     "name": "stderr",
     "output_type": "stream",
     "text": [
      "/home/szymon/repos/hy_ai/hy_ai/lib/python3.10/site-packages/whisper/__init__.py:146: FutureWarning: You are using `torch.load` with `weights_only=False` (the current default value), which uses the default pickle module implicitly. It is possible to construct malicious pickle data which will execute arbitrary code during unpickling (See https://github.com/pytorch/pytorch/blob/main/SECURITY.md#untrusted-models for more details). In a future release, the default value for `weights_only` will be flipped to `True`. This limits the functions that could be executed during unpickling. Arbitrary objects will no longer be allowed to be loaded via this mode unless they are explicitly allowlisted by the user via `torch.serialization.add_safe_globals`. We recommend you start setting `weights_only=True` for any use case where you don't have full control of the loaded file. Please open an issue on GitHub for any issues related to this experimental feature.\n",
      "  checkpoint = torch.load(fp, map_location=device)\n"
     ]
    }
   ],
   "source": [
    "# 3. Recodnize speech\n",
    "prompt = \"\"\n",
    "\n",
    "try:\n",
    "    output = r.recognize_whisper(\n",
    "        model=\"small\",\n",
    "        audio_data=audio, \n",
    "        language=\"polish\",\n",
    "        word_timestamps=False,\n",
    "        show_dict=False,\n",
    "        prompt=prompt,\n",
    "        )\n",
    "except sr.UnknownValueError:\n",
    "    print(\"could not understand audio\")\n",
    "except sr.RequestError as e:\n",
    "    print(\"error; {0}\".format(e))"
   ]
  },
  {
   "cell_type": "code",
   "execution_count": 101,
   "metadata": {},
   "outputs": [
    {
     "data": {
      "text/plain": [
       "' W pierwszej połowie lipca przeprowadziliśmy ogólnopolską akcję z możonej kontroli przesyłek pocztowych oraz kurierskich. Funkcjonariusze przeprowadzili kontrolę w 18 punktach w całej Polsce. Wrześniowa zmiana warunków oprezentowania obligacji oszczędnościowych wynika z potrzeby ich do stosowania do bieżących realiów rynkowych.'"
      ]
     },
     "execution_count": 101,
     "metadata": {},
     "output_type": "execute_result"
    }
   ],
   "source": [
    "output"
   ]
  }
 ],
 "metadata": {
  "kernelspec": {
   "display_name": "hy_ai",
   "language": "python",
   "name": "python3"
  },
  "language_info": {
   "codemirror_mode": {
    "name": "ipython",
    "version": 3
   },
   "file_extension": ".py",
   "mimetype": "text/x-python",
   "name": "python",
   "nbconvert_exporter": "python",
   "pygments_lexer": "ipython3",
   "version": "3.10.12"
  }
 },
 "nbformat": 4,
 "nbformat_minor": 2
}
